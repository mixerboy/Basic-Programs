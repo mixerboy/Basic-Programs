{
  "nbformat": 4,
  "nbformat_minor": 0,
  "metadata": {
    "colab": {
      "name": "Basic Programs.ipynb",
      "provenance": [],
      "collapsed_sections": [],
      "authorship_tag": "ABX9TyNVvK/O/AFxkm07iPzSIaPx",
      "include_colab_link": true
    },
    "kernelspec": {
      "name": "python3",
      "display_name": "Python 3"
    },
    "language_info": {
      "name": "python"
    }
  },
  "cells": [
    {
      "cell_type": "markdown",
      "metadata": {
        "id": "view-in-github",
        "colab_type": "text"
      },
      "source": [
        "<a href=\"https://colab.research.google.com/github/mixerboy/Basic-Programs/blob/main/Basic_Programs.ipynb\" target=\"_parent\"><img src=\"https://colab.research.google.com/assets/colab-badge.svg\" alt=\"Open In Colab\"/></a>"
      ]
    },
    {
      "cell_type": "code",
      "execution_count": null,
      "metadata": {
        "colab": {
          "base_uri": "https://localhost:8080/"
        },
        "id": "_tQ69tVFviYW",
        "outputId": "24e02033-69a0-4756-898a-1b2d0094deb0"
      },
      "outputs": [
        {
          "output_type": "stream",
          "name": "stdout",
          "text": [
            "ABCDCDC\n",
            "CDC\n",
            "2\n"
          ]
        }
      ],
      "source": [
        "# Output the integer number indicating the total number of occurrences of the substring in the original string.\n",
        "def count_substring(string, sub_string):\n",
        "    count =0\n",
        "    for i in range(len(string)-len(sub_string)+1):\n",
        "        if(string[i:i+len(sub_string)]==sub_string):\n",
        "            count += 1\n",
        "    return count\n",
        "if __name__ == '__main__':\n",
        "    string = input().strip()\n",
        "    sub_string = input().strip()\n",
        "    \n",
        "    count = count_substring(string, sub_string)\n",
        "    print(count)"
      ]
    },
    {
      "cell_type": "code",
      "source": [
        "# Text Wrap in Python\n",
        "import textwrap\n",
        "\n",
        "def wrap(string, max_width):\n",
        "    \n",
        "    return textwrap.fill(string,max_width)\n",
        "    \n",
        "\n",
        "if __name__ == '__main__':\n",
        "    string, max_width = input(), int(input())\n",
        "    result = wrap(string, max_width)\n",
        "    print(result)"
      ],
      "metadata": {
        "colab": {
          "base_uri": "https://localhost:8080/"
        },
        "id": "rEnEDUE4os-6",
        "outputId": "a437d8a2-673d-4a61-d85e-d091117a9dc0"
      },
      "execution_count": null,
      "outputs": [
        {
          "output_type": "stream",
          "name": "stdout",
          "text": [
            "ABCDEFGHIJKLMNOPQRSTUVWXYZ\n",
            "4\n",
            "ABCD\n",
            "EFGH\n",
            "IJKL\n",
            "MNOP\n",
            "QRST\n",
            "UVWX\n",
            "YZ\n"
          ]
        }
      ]
    },
    {
      "cell_type": "code",
      "source": [
        "# Alhabet Rangoli\n",
        "def print_rangoli(size):\n",
        "   alpha = \"abcdefghijklmnopqrstuvwxyz\"\n",
        "   alpha1 = alpha[:size][::-1]\n",
        "   res = \"\"\n",
        "   res1 =\"\"\n",
        "   \n",
        "   \n",
        "   \n",
        "   for j in range(size):\n",
        "    res = res1+alpha1[j]+res1[::-1]\n",
        "    res1 += alpha1[j]+\"-\"\n",
        "    print(res.center(4*size-3,\"-\"))\n",
        "\n",
        "   \n",
        "   for i in range(size-2,-1,-1):\n",
        "    res = \"\"\n",
        "    res1 =\"\" \n",
        "    for k in range(i):\n",
        "        \n",
        "        res1 += alpha1[k]+\"-\"\n",
        "    res = res1+alpha1[i]+res1[::-1]\n",
        "    print(res.center(4*size-3,\"-\"))    \n",
        "    \n",
        "\n",
        "    \n",
        "if __name__ == '__main__':\n",
        "    n = int(input())\n",
        "    print_rangoli(n)"
      ],
      "metadata": {
        "colab": {
          "base_uri": "https://localhost:8080/"
        },
        "id": "sZBm_qowsBpD",
        "outputId": "64e54c64-4338-4c1d-9f69-f19e4270462d"
      },
      "execution_count": null,
      "outputs": [
        {
          "output_type": "stream",
          "name": "stdout",
          "text": [
            "5\n",
            "--------e--------\n",
            "------e-d-e------\n",
            "----e-d-c-d-e----\n",
            "--e-d-c-b-c-d-e--\n",
            "e-d-c-b-a-b-c-d-e\n",
            "--e-d-c-b-c-d-e--\n",
            "----e-d-c-d-e----\n",
            "------e-d-e------\n",
            "--------e--------\n"
          ]
        }
      ]
    },
    {
      "cell_type": "code",
      "source": [
        "# Capitalize the every first word of Sentence\n",
        "s = 'USA cutt-off the russian supplies due to war'\n",
        "list1 = s.split(\" \")\n",
        "list3 = []\n",
        "    \n",
        "for i in range(len(list1)):\n",
        "    list2 =\"\"\n",
        "    list2 = list1[i][0].upper()+list1[i][1:]\n",
        "    \n",
        "    list3.append(list2)\n",
        "res = \" \".join(list3)\n",
        "print(res)"
      ],
      "metadata": {
        "colab": {
          "base_uri": "https://localhost:8080/"
        },
        "id": "SZSKG41PyoP0",
        "outputId": "3c50e880-e58d-405b-94ac-313376f99e65"
      },
      "execution_count": 2,
      "outputs": [
        {
          "output_type": "stream",
          "name": "stdout",
          "text": [
            "USA Cutt-off The Russian Supplies Due To War\n"
          ]
        }
      ]
    },
    {
      "cell_type": "code",
      "source": [
        "# The Minion Game\n",
        "def count_substring(string, sub_string):\n",
        "    count =0\n",
        "    for i in range(len(string)-len(sub_string)+1):\n",
        "        if(string[i:i+len(sub_string)]==sub_string):\n",
        "            count += 1\n",
        "    return count\n",
        "\n",
        "\n",
        "def minion_game(string):\n",
        "    vowels = ['A','E','I','O','U']\n",
        "    kevin = []\n",
        "    stuart = []\n",
        "    for i in range(len(string)):\n",
        "        for j in range(i+1,len(string)+1):\n",
        "            if string[i] in vowels:\n",
        "                kevin.append(string[i:j])\n",
        "            else:\n",
        "                stuart.append(string[i:j])\n",
        "\n",
        "    kevin = list(set(kevin))\n",
        "    stuart = list(set(stuart))\n",
        "    kevin1 = 0\n",
        "    stuart1 = 0\n",
        "    for i in kevin:\n",
        "        kevin1 +=  count_substring(string, i)\n",
        "    for i in stuart:\n",
        "        stuart1 +=  count_substring(string, i)\n",
        "    \n",
        "    \n",
        "    if stuart1>kevin1 :\n",
        "        print(\"Stuart\",stuart1)\n",
        "        \n",
        "    elif kevin1>stuart1:\n",
        "        print(\"Kevin\",kevin1)\n",
        "        \n",
        "    elif kevin1==stuart1:\n",
        "        print(\"Draw\")\n",
        "        \n",
        "    else:\n",
        "        print(\"Draw\")\n",
        "        \n",
        "    \n",
        "if __name__ == '__main__':\n",
        "    s = input()\n",
        "    minion_game(s)"
      ],
      "metadata": {
        "colab": {
          "base_uri": "https://localhost:8080/"
        },
        "id": "tyV1SNaht3Ya",
        "outputId": "cb1b8159-5159-47ff-f392-eb4539724cb6"
      },
      "execution_count": null,
      "outputs": [
        {
          "output_type": "stream",
          "name": "stdout",
          "text": [
            "BANANA\n",
            "Stuart 12\n"
          ]
        }
      ]
    },
    {
      "cell_type": "code",
      "source": [
        "# Another approach for Minion Game\n",
        "def minion_game(string):\n",
        "    \n",
        "    player1 = 0;\n",
        "    player2 = 0;\n",
        "    str_len = len(string)\n",
        "    for i in range(str_len):\n",
        "        if s[i] in \"AEIOU\":\n",
        "            player1 += (str_len)-i\n",
        "        else :\n",
        "            player2 += (str_len)-i\n",
        "    \n",
        "    if player1 > player2:\n",
        "        print(\"Kevin\", player1)\n",
        "    elif player1 < player2:\n",
        "        print(\"Stuart\",player2)   \n",
        "    else :\n",
        "        print(\"Draw\")\n",
        "\n",
        "\n",
        "if __name__ == '__main__':\n",
        "    s = input()\n",
        "    minion_game(s)"
      ],
      "metadata": {
        "colab": {
          "base_uri": "https://localhost:8080/"
        },
        "id": "-ISZA-z08cQn",
        "outputId": "8a56bf72-6956-45fb-f91b-a8e513c22eb7"
      },
      "execution_count": null,
      "outputs": [
        {
          "output_type": "stream",
          "name": "stdout",
          "text": [
            "BANANA\n",
            "Stuart 12\n"
          ]
        }
      ]
    },
    {
      "cell_type": "code",
      "source": [
        "# Generating a Substring of Given String without Repetition\n",
        "def merge_the_tools(string, k):\n",
        "    list1 = []\n",
        "    lis = []\n",
        "    if(len(string)%k==0):\n",
        "        for i in range(0,len(string),k):\n",
        "            list1.append(string[i:i+k])\n",
        "    for sub in list1:\n",
        "        list2 =list(sub)\n",
        "        for i in range(len(list2)):\n",
        "            for j in range(len(list2)-1,i,-1):\n",
        "                if list2[i]==list2[j]:\n",
        "                    list2[j]=''\n",
        "        res = ''.join(list2)\n",
        "        print(res)\n",
        "        \n",
        "        \n",
        "\n",
        "if __name__ == '__main__':\n",
        "    string, k = input(), int(input())\n",
        "    merge_the_tools(string, k)"
      ],
      "metadata": {
        "colab": {
          "base_uri": "https://localhost:8080/"
        },
        "id": "5OJPQ4e_aJVT",
        "outputId": "e37037f9-2710-434c-c770-83036f6c64f3"
      },
      "execution_count": null,
      "outputs": [
        {
          "output_type": "stream",
          "name": "stdout",
          "text": [
            "AABCAAADA\n",
            "3\n",
            "AB\n",
            "CA\n",
            "AD\n"
          ]
        }
      ]
    },
    {
      "cell_type": "code",
      "source": [
        "# Generating a Substring of Given String without Repetition\n",
        "from collections import OrderedDict\n",
        "def merge_the_tools(string, k):\n",
        "    \n",
        "    strlen = len(string)\n",
        "    for i in range(0,strlen,k):\n",
        "        print(''.join(OrderedDict.fromkeys(string[i:i + k])))\n",
        "\n",
        "if __name__ == '__main__':\n",
        "    string, k = input(), int(input())\n",
        "    merge_the_tools(string, k)"
      ],
      "metadata": {
        "colab": {
          "base_uri": "https://localhost:8080/"
        },
        "id": "-2xeis9vat0-",
        "outputId": "dcaccefd-a00f-448f-ade7-aab0e0b91f99"
      },
      "execution_count": null,
      "outputs": [
        {
          "output_type": "stream",
          "name": "stdout",
          "text": [
            "AABCAAADA\n",
            "3\n",
            "AB\n",
            "CA\n",
            "AD\n"
          ]
        }
      ]
    },
    {
      "cell_type": "code",
      "source": [
        "# Generating a Substring of Given String without Repetition\n",
        "string ='AABCAAADA'\n",
        "k=3\n",
        "for part in zip(*[iter(string)] * k):\n",
        "      d = dict()\n",
        "      print(''.join([ d.setdefault(c, c) for c in part if c not in d ]))"
      ],
      "metadata": {
        "colab": {
          "base_uri": "https://localhost:8080/"
        },
        "id": "K6BgWYYXju9C",
        "outputId": "b6445767-5bb7-4d9c-8ca9-97fef33d1334"
      },
      "execution_count": null,
      "outputs": [
        {
          "output_type": "stream",
          "name": "stdout",
          "text": [
            "AB\n",
            "CA\n",
            "AD\n"
          ]
        }
      ]
    },
    {
      "cell_type": "code",
      "source": [
        "# Longest Subarray function\n",
        "def longest_sub(arr):\n",
        "  l = len(arr)\n",
        "  max_len =1\n",
        "  list2 = []\n",
        "  for i in range(l-1):\n",
        "    list1 = []\n",
        "    prev = arr[i]\n",
        "    list1.append(prev)\n",
        "    for j in range(i+1,l):\n",
        "      if (arr[j]-prev<=1 and arr[j]-prev>=-1):\n",
        "        list1.append(arr[j])\n",
        "        prev = arr[j]\n",
        "      else:\n",
        "        continue\n",
        "    list2.append(len(list1))\n",
        "  longest = max(list2)\n",
        "  return longest  \n",
        "\n",
        "arr1 = [1,1,3,3,2,2,3,3]\n",
        "print(longest_sub(arr1))\n",
        "      \n"
      ],
      "metadata": {
        "colab": {
          "base_uri": "https://localhost:8080/"
        },
        "id": "5eEVlPcz193J",
        "outputId": "133e3813-02e5-4d24-ca79-f4aa7916a410"
      },
      "execution_count": null,
      "outputs": [
        {
          "output_type": "stream",
          "name": "stdout",
          "text": [
            "6\n"
          ]
        }
      ]
    },
    {
      "cell_type": "code",
      "source": [
        "# Binary Game\n",
        "t = int(input())\n",
        "for i in range(t):\n",
        "    n =int(input())\n",
        "    s = input()\n",
        "    str_list = list(s)\n",
        "    count = 0\n",
        "    for j in range(n):\n",
        "        if str_list[j]=='1':\n",
        "            count += 1\n",
        "            a = j\n",
        "            for k in range(j,n):\n",
        "                \n",
        "                if k != a+1 :\n",
        "                    if str_list[k]=='1':\n",
        "                        str_list[k] = '0'\n",
        "                        \n",
        "                        a = k\n",
        "                    \n",
        "    print(count)    "
      ],
      "metadata": {
        "colab": {
          "base_uri": "https://localhost:8080/"
        },
        "id": "5YuMTC-sRtwq",
        "outputId": "38b04527-abc6-44bd-8bd2-a0bd2dcea3d2"
      },
      "execution_count": null,
      "outputs": [
        {
          "output_type": "stream",
          "name": "stdout",
          "text": [
            "3\n",
            "6\n",
            "101001\n",
            "1\n",
            "5\n",
            "00000\n",
            "0\n",
            "3\n",
            "111\n",
            "2\n"
          ]
        }
      ]
    }
  ]
}